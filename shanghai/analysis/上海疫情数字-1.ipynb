{
  "cells": [
    {
      "cell_type": "code",
      "execution_count": 40,
      "metadata": {
        "colab": {
          "base_uri": "https://localhost:8080/"
        },
        "id": "7BoxxfetEWHE",
        "outputId": "73a575fb-c446-4037-e7af-fe5a8e0c74cb"
      },
      "outputs": [],
      "source": [
        "# !apt install fonts-noto fonts-noto-cjk* fonts-droid-fallback"
      ]
    },
    {
      "cell_type": "code",
      "execution_count": 41,
      "metadata": {
        "colab": {
          "base_uri": "https://localhost:8080/"
        },
        "id": "a6Zxjdx6gxt0",
        "outputId": "a8be4b51-87dd-49c7-b583-2bed43ac9b32"
      },
      "outputs": [
        {
          "name": "stdout",
          "output_type": "stream",
          "text": [
            "matplotlib: 3.5.1\n"
          ]
        }
      ],
      "source": [
        "import pandas as pd\n",
        "import numpy as np\n",
        "import matplotlib\n",
        "import matplotlib.pyplot as plt\n",
        "import seaborn as sns\n",
        "\n",
        "print('matplotlib:', matplotlib.__version__)"
      ]
    },
    {
      "cell_type": "code",
      "execution_count": 42,
      "metadata": {
        "colab": {
          "base_uri": "https://localhost:8080/"
        },
        "id": "a-ki_VnhEDxH",
        "outputId": "c6123122-c67a-4fd5-a4d0-51b0f8987c4a"
      },
      "outputs": [
        {
          "name": "stdout",
          "output_type": "stream",
          "text": [
            "********** 可用的字体 **********\n"
          ]
        }
      ],
      "source": [
        "# 列出能用的字体\n",
        "import subprocess\n",
        "\n",
        "mat_fonts = set(f.name for f in matplotlib.font_manager.FontManager().ttflist)\n",
        "\n",
        "output = subprocess.check_output('fc-list :lang=zh -f \"%{family}\\n\"', shell=True)\n",
        "output = output.decode('utf-8')\n",
        "# print '*' * 10, '系统可用的中文字体', '*' * 10\n",
        "# print output\n",
        "zh_fonts = set(f.split(',', 1)[0] for f in output.split('\\n'))\n",
        "available = mat_fonts & zh_fonts\n",
        "\n",
        "print('*' * 10, '可用的字体', '*' * 10)\n",
        "for f in available:\n",
        "    print(f)"
      ]
    },
    {
      "cell_type": "code",
      "execution_count": 43,
      "metadata": {
        "colab": {
          "base_uri": "https://localhost:8080/"
        },
        "id": "F_yuE-TrEHXE",
        "outputId": "febb29e3-4c5a-4d03-e725-85c24fd59242"
      },
      "outputs": [
        {
          "name": "stdout",
          "output_type": "stream",
          "text": [
            "<font.sans-serif>:  ['Noto Sans CJK JP', 'Droid Sans Fallback', 'DejaVu Sans', 'Bitstream Vera Sans', 'Computer Modern Sans Serif', 'Lucida Grande', 'Verdana', 'Geneva', 'Lucid', 'Arial', 'Helvetica', 'Avant Garde', 'sans-serif']\n",
            "<font.serif>:  ['Noto Serif CJK JP', 'Droid Sans Fallback', 'DejaVu Serif', 'Bitstream Vera Serif', 'Computer Modern Roman', 'New Century Schoolbook', 'Century Schoolbook L', 'Utopia', 'ITC Bookman', 'Bookman', 'Nimbus Roman No9 L', 'Times New Roman', 'Times', 'Palatino', 'Charter', 'serif']\n",
            "<font.monospace>:  ['Droid Sans Fallback', 'DejaVu Sans Mono', 'Bitstream Vera Sans Mono', 'Computer Modern Typewriter', 'Andale Mono', 'Nimbus Mono L', 'Courier New', 'Courier', 'Fixed', 'Terminal', 'monospace']\n"
          ]
        }
      ],
      "source": [
        "# 将中文字体放在备选字体首位\n",
        "\n",
        "# ********** 可用的字体 **********\n",
        "# AR PL UMing CN\n",
        "# Noto Sans CJK JP\n",
        "# AR PL UKai CN\n",
        "# Noto Serif CJK JP\n",
        "# Droid Sans Fallback\n",
        "\n",
        "fonts = matplotlib.rcParamsDefault['font.sans-serif'].copy()\n",
        "fonts.insert(0, 'Droid Sans Fallback')\n",
        "fonts.insert(0, 'Noto Sans CJK JP')\n",
        "matplotlib.rcParams['font.sans-serif'] = fonts\n",
        "print('<font.sans-serif>: ', matplotlib.rcParams['font.sans-serif'])\n",
        "\n",
        "fonts = matplotlib.rcParamsDefault['font.serif'].copy()\n",
        "fonts.insert(0, 'Droid Sans Fallback')\n",
        "fonts.insert(0, 'Noto Serif CJK JP')\n",
        "matplotlib.rcParams['font.serif'] = fonts\n",
        "print('<font.serif>: ', matplotlib.rcParams['font.serif'])\n",
        "\n",
        "fonts = matplotlib.rcParamsDefault['font.monospace'].copy()\n",
        "fonts.insert(0, 'Droid Sans Fallback')\n",
        "matplotlib.rcParams['font.monospace'] = fonts\n",
        "print('<font.monospace>: ', matplotlib.rcParams['font.monospace'])"
      ]
    },
    {
      "cell_type": "code",
      "execution_count": 44,
      "metadata": {
        "id": "yTK05CHKJBo9"
      },
      "outputs": [],
      "source": [
        "# matplotlib.rc('font', family='Noto Serif CJK JP')"
      ]
    },
    {
      "cell_type": "code",
      "execution_count": 45,
      "metadata": {
        "id": "1i74Ej9tclZm"
      },
      "outputs": [],
      "source": [
        "cases = [\n",
        "  3,7,5,8,19,28,10,12,18,19,\n",
        "  55,83,65,169,139,202,158,260,374,\n",
        "  509,758,896,981,983,1609,2269,2676,3500,4477,5982,5653,\n",
        "  4502,6311,8226,9006,13354,17077,19982,21222,23624,24943,\n",
        "  26087,23342,26330,27719,23072,23513,3238+21582,2417+19831,3084+17332,2494+16407,\n",
        "  2634+15861,\n",
        "]\n",
        "\n",
        "begin_date = '2022-03-01'"
      ]
    },
    {
      "cell_type": "code",
      "execution_count": 46,
      "metadata": {
        "colab": {
          "base_uri": "https://localhost:8080/",
          "height": 206
        },
        "id": "6XHjKAKhhMkf",
        "outputId": "f45c6ade-b33c-4e5b-c80f-5f4e9ddb69d6"
      },
      "outputs": [
        {
          "data": {
            "text/html": [
              "<div>\n",
              "<style scoped>\n",
              "    .dataframe tbody tr th:only-of-type {\n",
              "        vertical-align: middle;\n",
              "    }\n",
              "\n",
              "    .dataframe tbody tr th {\n",
              "        vertical-align: top;\n",
              "    }\n",
              "\n",
              "    .dataframe thead th {\n",
              "        text-align: right;\n",
              "    }\n",
              "</style>\n",
              "<table border=\"1\" class=\"dataframe\">\n",
              "  <thead>\n",
              "    <tr style=\"text-align: right;\">\n",
              "      <th></th>\n",
              "      <th>new_cases</th>\n",
              "    </tr>\n",
              "  </thead>\n",
              "  <tbody>\n",
              "    <tr>\n",
              "      <th>2022-04-17</th>\n",
              "      <td>24820</td>\n",
              "    </tr>\n",
              "    <tr>\n",
              "      <th>2022-04-18</th>\n",
              "      <td>22248</td>\n",
              "    </tr>\n",
              "    <tr>\n",
              "      <th>2022-04-19</th>\n",
              "      <td>20416</td>\n",
              "    </tr>\n",
              "    <tr>\n",
              "      <th>2022-04-20</th>\n",
              "      <td>18901</td>\n",
              "    </tr>\n",
              "    <tr>\n",
              "      <th>2022-04-21</th>\n",
              "      <td>18495</td>\n",
              "    </tr>\n",
              "  </tbody>\n",
              "</table>\n",
              "</div>"
            ],
            "text/plain": [
              "            new_cases\n",
              "2022-04-17      24820\n",
              "2022-04-18      22248\n",
              "2022-04-19      20416\n",
              "2022-04-20      18901\n",
              "2022-04-21      18495"
            ]
          },
          "execution_count": 46,
          "metadata": {},
          "output_type": "execute_result"
        }
      ],
      "source": [
        "df = pd.DataFrame({'new_cases': cases}, index=pd.date_range(begin_date, periods=len(cases), freq='D'))\n",
        "df.tail()"
      ]
    },
    {
      "cell_type": "code",
      "execution_count": 58,
      "metadata": {},
      "outputs": [
        {
          "data": {
            "text/plain": [
              "18495"
            ]
          },
          "execution_count": 58,
          "metadata": {},
          "output_type": "execute_result"
        }
      ],
      "source": [
        "df.new_cases.iloc[-1]"
      ]
    },
    {
      "cell_type": "code",
      "execution_count": 69,
      "metadata": {},
      "outputs": [],
      "source": [
        "title = df.index.max().strftime('%Y年%m月%d日') + \"更新\\n新增{}阳性\".format(df.new_cases.iloc[-1])"
      ]
    },
    {
      "cell_type": "code",
      "execution_count": 71,
      "metadata": {
        "colab": {
          "base_uri": "https://localhost:8080/",
          "height": 1000
        },
        "id": "BaTFPqyAhhQs",
        "outputId": "102f17a9-dff8-44fe-d67b-ebe9e241ab25"
      },
      "outputs": [
        {
          "data": {
            "image/png": "[encoded data removed]",
            "text/plain": [
              "<Figure size 1080x720 with 1 Axes>"
            ]
          },
          "metadata": {
            "needs_background": "light"
          },
          "output_type": "display_data"
        }
      ],
      "source": [
        "fig, ax = plt.subplots(figsize = (15,10))\n",
        "\n",
        "\n",
        "from datetime import datetime\n",
        "\n",
        "ax.grid(True, which='major', axis='y', alpha=0.3)\n",
        "\n",
        "#     '上海全域静态管理'\n",
        "plt.text(\n",
        "    (datetime.fromisoformat('2022-03-31') - datetime.fromisoformat(begin_date)).days-0.5,\n",
        "    max(cases),\n",
        "    '上海全域静态管理',\n",
        "    rotation=90,\n",
        "    horizontalalignment='right',\n",
        "    verticalalignment='top',\n",
        "    multialignment='center',\n",
        "    size=17,\n",
        "    color='darkblue',\n",
        "    alpha=0.6\n",
        "    )\n",
        "\n",
        "plt.axvline(\n",
        "    (datetime.fromisoformat('2022-03-31') - datetime.fromisoformat(begin_date)).days-0.5,\n",
        "    0,max(cases),\n",
        "    linestyle='-', linewidth=3, color='red', alpha=0.3,\n",
        "    )\n",
        "\n",
        "#     '指数上升趋势放缓'\n",
        "plt.text(\n",
        "    (datetime.fromisoformat('2022-04-07') - datetime.fromisoformat(begin_date)).days-0.5,\n",
        "    max(cases),\n",
        "    '指数上升趋势放缓',\n",
        "    rotation=90,\n",
        "    horizontalalignment='right',\n",
        "    verticalalignment='top',\n",
        "    multialignment='center',\n",
        "    size=17,\n",
        "    color='darkblue',\n",
        "    alpha=0.6\n",
        "    )\n",
        "\n",
        "\n",
        "plt.axvline(\n",
        "    (datetime.fromisoformat('2022-04-07') - datetime.fromisoformat(begin_date)).days-0.5,\n",
        "    0,max(cases),\n",
        "    linestyle='-', linewidth=3, color='red', alpha=0.3,\n",
        "    )\n",
        "\n",
        "#     '平台期'\n",
        "plt.axvspan(\n",
        "    (datetime.fromisoformat('2022-04-11') - datetime.fromisoformat(begin_date)).days-0.7,\n",
        "    (datetime.fromisoformat('2022-04-17') - datetime.fromisoformat(begin_date)).days+0.5,\n",
        "    color='pink', alpha=0.2,\n",
        "    )\n",
        "\n",
        "plt.text(\n",
        "    (datetime.fromisoformat('2022-04-11') - datetime.fromisoformat(begin_date)).days+4,\n",
        "    max(cases),\n",
        "    '平台期',\n",
        "    rotation=0,\n",
        "    horizontalalignment='right',\n",
        "    verticalalignment='bottom',\n",
        "    multialignment='center',\n",
        "    size=17,\n",
        "    color='darkblue',\n",
        "    alpha=0.6\n",
        "    )\n",
        "\n",
        "\n",
        "# bar color\n",
        "pal = sns.color_palette('Spectral', len(cases))\n",
        "rank = df.new_cases.argsort().argsort()\n",
        "# 画 bar 图\n",
        "g = sns.barplot(x=df.index, y='new_cases', alpha=1, palette=np.array(pal[::-1])[rank], data=df, ax=ax)\n",
        "\n",
        "plt.text(\n",
        "    2,\n",
        "    max(cases),\n",
        "    title,\n",
        "    rotation=0,\n",
        "    horizontalalignment='left',\n",
        "    verticalalignment='top',\n",
        "    multialignment='center',\n",
        "    size=25,\n",
        "    fontweight='bold',\n",
        "    color='black',\n",
        "    alpha=1\n",
        "    )\n",
        "\n",
        "# X 轴日期格式调整\n",
        "x_dates = df.index.strftime('%Y-%m-%d').sort_values().unique()\n",
        "ax.set_xticklabels(labels=x_dates, rotation=90, ha='right')\n",
        "\n",
        "plt.show()"
      ]
    },
    {
      "cell_type": "code",
      "execution_count": null,
      "metadata": {
        "id": "qMmV_ML0qVwv"
      },
      "outputs": [],
      "source": []
    }
  ],
  "metadata": {
    "colab": {
      "collapsed_sections": [],
      "name": "上海疫情数字.ipynb",
      "provenance": []
    },
    "kernelspec": {
      "display_name": "Python 3",
      "name": "python3"
    },
    "language_info": {
      "codemirror_mode": {
        "name": "ipython",
        "version": 3
      },
      "file_extension": ".py",
      "mimetype": "text/x-python",
      "name": "python",
      "nbconvert_exporter": "python",
      "pygments_lexer": "ipython3",
      "version": "3.9.7"
    }
  },
  "nbformat": 4,
  "nbformat_minor": 0
}
